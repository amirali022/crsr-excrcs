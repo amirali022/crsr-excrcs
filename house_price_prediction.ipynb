{
 "cells": [
  {
   "cell_type": "code",
   "execution_count": 1,
   "metadata": {},
   "outputs": [],
   "source": [
    "import tensorflow as tf\n",
    "import numpy as np"
   ]
  },
  {
   "cell_type": "code",
   "execution_count": 2,
   "metadata": {},
   "outputs": [],
   "source": [
    "def house_model():\n",
    "\txs = np.array( [ 1.0, 2.0, 3.0, 4.0, 5.0, 6.0], dtype=float)\n",
    "\tys = np.array( [ 5.0, 10.0, 15.0, 20.0, 25.0, 30.0], dtype=float)\n",
    "\n",
    "\tmodel = tf.keras.models.Sequential( [\n",
    "\t\ttf.keras.layers.Dense( units=1, input_shape=[ 1])\n",
    "\t])\n",
    "\n",
    "\tmodel.compile( optimizer=\"sgd\", loss=\"mse\")\n",
    "\n",
    "\tmodel.fit( xs, ys, epochs=1000, verbose=0)\n",
    "\n",
    "\treturn model"
   ]
  },
  {
   "cell_type": "code",
   "execution_count": 3,
   "metadata": {},
   "outputs": [],
   "source": [
    "model = house_model()"
   ]
  },
  {
   "cell_type": "code",
   "execution_count": 4,
   "metadata": {},
   "outputs": [
    {
     "name": "stdout",
     "output_type": "stream",
     "text": [
      "1/1 [==============================] - 0s 246ms/step\n",
      "[34.976795]\n"
     ]
    }
   ],
   "source": [
    "new_y = 7.0\n",
    "prediction = model.predict( [ new_y])[ 0]\n",
    "print( prediction)"
   ]
  }
 ],
 "metadata": {
  "kernelspec": {
   "display_name": "Python 3.8.6 64-bit",
   "language": "python",
   "name": "python3"
  },
  "language_info": {
   "codemirror_mode": {
    "name": "ipython",
    "version": 3
   },
   "file_extension": ".py",
   "mimetype": "text/x-python",
   "name": "python",
   "nbconvert_exporter": "python",
   "pygments_lexer": "ipython3",
   "version": "3.8.6"
  },
  "orig_nbformat": 4,
  "vscode": {
   "interpreter": {
    "hash": "cccb80c535c03ea85c927d83b1212f93133456f0701648b808e4e1f70d2d0413"
   }
  }
 },
 "nbformat": 4,
 "nbformat_minor": 2
}
