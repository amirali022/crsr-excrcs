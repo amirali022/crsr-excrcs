{
 "cells": [
  {
   "cell_type": "code",
   "execution_count": 2,
   "metadata": {},
   "outputs": [],
   "source": [
    "import tensorflow as tf"
   ]
  },
  {
   "cell_type": "code",
   "execution_count": 3,
   "metadata": {},
   "outputs": [
    {
     "name": "stdout",
     "output_type": "stream",
     "text": [
      "0\n",
      "1\n",
      "2\n",
      "3\n",
      "4\n",
      "5\n",
      "6\n",
      "7\n",
      "8\n",
      "9\n"
     ]
    }
   ],
   "source": [
    "dataset = tf.data.Dataset.range( 10)\n",
    "\n",
    "for val in dataset:\n",
    "\tprint( val.numpy())"
   ]
  },
  {
   "cell_type": "code",
   "execution_count": 4,
   "metadata": {},
   "outputs": [
    {
     "name": "stdout",
     "output_type": "stream",
     "text": [
      "[0, 1, 2, 3, 4]\n",
      "[1, 2, 3, 4, 5]\n",
      "[2, 3, 4, 5, 6]\n",
      "[3, 4, 5, 6, 7]\n",
      "[4, 5, 6, 7, 8]\n",
      "[5, 6, 7, 8, 9]\n",
      "[6, 7, 8, 9]\n",
      "[7, 8, 9]\n",
      "[8, 9]\n",
      "[9]\n"
     ]
    }
   ],
   "source": [
    "dataset = tf.data.Dataset.range( 10)\n",
    "\n",
    "dataset = dataset.window( size=5, shift=1)\n",
    "\n",
    "for window_dataset in dataset:\n",
    "\tprint( [ value.numpy() for value in window_dataset])"
   ]
  },
  {
   "cell_type": "code",
   "execution_count": 5,
   "metadata": {},
   "outputs": [
    {
     "name": "stdout",
     "output_type": "stream",
     "text": [
      "[0, 1, 2, 3, 4]\n",
      "[1, 2, 3, 4, 5]\n",
      "[2, 3, 4, 5, 6]\n",
      "[3, 4, 5, 6, 7]\n",
      "[4, 5, 6, 7, 8]\n",
      "[5, 6, 7, 8, 9]\n"
     ]
    }
   ],
   "source": [
    "dataset = tf.data.Dataset.range( 10)\n",
    "\n",
    "dataset = dataset.window( size=5, shift=1, drop_remainder=True)\n",
    "\n",
    "for window_dataset in dataset:\n",
    "\tprint( [ value.numpy() for value in window_dataset])"
   ]
  },
  {
   "cell_type": "code",
   "execution_count": 6,
   "metadata": {},
   "outputs": [
    {
     "name": "stdout",
     "output_type": "stream",
     "text": [
      "[0 1 2 3 4]\n",
      "[1 2 3 4 5]\n",
      "[2 3 4 5 6]\n",
      "[3 4 5 6 7]\n",
      "[4 5 6 7 8]\n",
      "[5 6 7 8 9]\n"
     ]
    }
   ],
   "source": [
    "dataset = tf.data.Dataset.range( 10)\n",
    "\n",
    "dataset = dataset.window( size=5, shift=1, drop_remainder=True)\n",
    "\n",
    "dataset = dataset.flat_map( lambda window: window.batch( 5))\n",
    "\n",
    "for window in dataset:\n",
    "\tprint( window.numpy())"
   ]
  },
  {
   "cell_type": "code",
   "execution_count": 7,
   "metadata": {},
   "outputs": [
    {
     "name": "stdout",
     "output_type": "stream",
     "text": [
      "x = [0 1 2 3]\n",
      "y = 4\n",
      "\n",
      "x = [1 2 3 4]\n",
      "y = 5\n",
      "\n",
      "x = [2 3 4 5]\n",
      "y = 6\n",
      "\n",
      "x = [3 4 5 6]\n",
      "y = 7\n",
      "\n",
      "x = [4 5 6 7]\n",
      "y = 8\n",
      "\n",
      "x = [5 6 7 8]\n",
      "y = 9\n",
      "\n"
     ]
    }
   ],
   "source": [
    "dataset = tf.data.Dataset.range( 10)\n",
    "\n",
    "dataset = dataset.window( size=5, shift=1, drop_remainder=True)\n",
    "\n",
    "dataset = dataset.flat_map( lambda window: window.batch( 5))\n",
    "\n",
    "dataset = dataset.map( lambda window: ( window[ :-1], window[ -1]))\n",
    "\n",
    "for x, y in dataset:\n",
    "\tprint( f\"x = { x.numpy()}\")\n",
    "\tprint( f\"y = { y.numpy()}\")\n",
    "\tprint()"
   ]
  },
  {
   "cell_type": "code",
   "execution_count": 8,
   "metadata": {},
   "outputs": [
    {
     "name": "stdout",
     "output_type": "stream",
     "text": [
      "x = [4 5 6 7]\n",
      "y = 8\n",
      "\n",
      "x = [0 1 2 3]\n",
      "y = 4\n",
      "\n",
      "x = [5 6 7 8]\n",
      "y = 9\n",
      "\n",
      "x = [3 4 5 6]\n",
      "y = 7\n",
      "\n",
      "x = [1 2 3 4]\n",
      "y = 5\n",
      "\n",
      "x = [2 3 4 5]\n",
      "y = 6\n",
      "\n"
     ]
    }
   ],
   "source": [
    "dataset = tf.data.Dataset.range( 10)\n",
    "\n",
    "dataset = dataset.window( size=5, shift=1, drop_remainder=True)\n",
    "\n",
    "dataset = dataset.flat_map( lambda window: window.batch( 5))\n",
    "\n",
    "dataset = dataset.map( lambda window: ( window[ :-1], window[ -1]))\n",
    "\n",
    "dataset = dataset.shuffle( buffer_size=10)\n",
    "\n",
    "for x, y in dataset:\n",
    "\tprint( f\"x = { x.numpy()}\")\n",
    "\tprint( f\"y = { y.numpy()}\")\n",
    "\tprint()"
   ]
  },
  {
   "cell_type": "code",
   "execution_count": 9,
   "metadata": {},
   "outputs": [
    {
     "name": "stdout",
     "output_type": "stream",
     "text": [
      "x = [[5 6 7 8]\n",
      " [1 2 3 4]]\n",
      "y = [9 5]\n",
      "\n",
      "x = [[4 5 6 7]\n",
      " [3 4 5 6]]\n",
      "y = [8 7]\n",
      "\n",
      "x = [[2 3 4 5]\n",
      " [0 1 2 3]]\n",
      "y = [6 4]\n",
      "\n"
     ]
    }
   ],
   "source": [
    "dataset = tf.data.Dataset.range( 10)\n",
    "\n",
    "dataset = dataset.window( size=5, shift=1, drop_remainder=True)\n",
    "\n",
    "dataset = dataset.flat_map( lambda window: window.batch( 5))\n",
    "\n",
    "dataset = dataset.map( lambda window: ( window[ :-1], window[ -1]))\n",
    "\n",
    "dataset = dataset.shuffle( buffer_size=10)\n",
    "\n",
    "dataset = dataset.batch( 2).prefetch( 1)\n",
    "\n",
    "for x, y in dataset:\n",
    "\tprint( f\"x = { x.numpy()}\")\n",
    "\tprint( f\"y = { y.numpy()}\")\n",
    "\tprint()"
   ]
  }
 ],
 "metadata": {
  "kernelspec": {
   "display_name": "Python 3",
   "language": "python",
   "name": "python3"
  },
  "language_info": {
   "codemirror_mode": {
    "name": "ipython",
    "version": 3
   },
   "file_extension": ".py",
   "mimetype": "text/x-python",
   "name": "python",
   "nbconvert_exporter": "python",
   "pygments_lexer": "ipython3",
   "version": "3.11.7"
  }
 },
 "nbformat": 4,
 "nbformat_minor": 2
}
