{
 "cells": [
  {
   "cell_type": "code",
   "execution_count": 2,
   "metadata": {},
   "outputs": [],
   "source": [
    "from tensorflow.keras.preprocessing.text import Tokenizer\n",
    "from tensorflow.keras.preprocessing.sequence import pad_sequences"
   ]
  },
  {
   "cell_type": "code",
   "execution_count": 3,
   "metadata": {},
   "outputs": [
    {
     "name": "stdout",
     "output_type": "stream",
     "text": [
      "Word Index = {'<OOV>': 1, 'my': 2, 'love': 3, 'dog': 4, 'i': 5, 'you': 6, 'cat': 7, 'do': 8, 'think': 9, 'is': 10, 'amazing': 11}\n",
      "Sequences = [[5, 3, 2, 4], [5, 3, 2, 7], [6, 3, 2, 4], [8, 6, 9, 2, 4, 10, 11]]\n"
     ]
    }
   ],
   "source": [
    "sentences = [\n",
    "\t\"I love my dog\",\n",
    "    \"I love my cat\",\n",
    "    \"You love my dog!\",\n",
    "    \"Do you think my dog is amazing?\"\n",
    "]\n",
    "\n",
    "tokenizer = Tokenizer( num_words=100, oov_token=\"<OOV>\")\n",
    "\n",
    "tokenizer.fit_on_texts( sentences)\n",
    "\n",
    "word_index = tokenizer.word_index\n",
    "\n",
    "sequences = tokenizer.texts_to_sequences( sentences)\n",
    "\n",
    "print( f\"Word Index = { word_index}\")\n",
    "print( f\"Sequences = { sequences}\")"
   ]
  },
  {
   "cell_type": "code",
   "execution_count": 4,
   "metadata": {},
   "outputs": [
    {
     "name": "stdout",
     "output_type": "stream",
     "text": [
      "padded sequences:\n",
      "[[5 3 2 4 0]\n",
      " [5 3 2 7 0]\n",
      " [6 3 2 4 0]\n",
      " [8 6 9 2 4]]\n"
     ]
    }
   ],
   "source": [
    "padded = pad_sequences(\n",
    "\tsequences,\n",
    "\tmaxlen=5,\n",
    "\tpadding=\"post\",\n",
    "\ttruncating=\"post\"\n",
    ")\n",
    "\n",
    "print( \"padded sequences:\")\n",
    "print( padded)"
   ]
  },
  {
   "cell_type": "code",
   "execution_count": 6,
   "metadata": {},
   "outputs": [
    {
     "name": "stdout",
     "output_type": "stream",
     "text": [
      "Test Sequences = [[5, 1, 3, 2, 4], [2, 4, 1, 2, 1]]\n",
      "padded test sequences\n",
      "[[5 1 3 2 4 0 0]\n",
      " [2 4 1 2 1 0 0]]\n"
     ]
    }
   ],
   "source": [
    "test_data = [\n",
    "\t\"i really love my dog\",\n",
    "    \"my dog loves my manatee\"\n",
    "]\n",
    "\n",
    "test_seq = tokenizer.texts_to_sequences( test_data)\n",
    "\n",
    "print( f\"Test Sequences = { test_seq}\")\n",
    "\n",
    "padded = pad_sequences(\n",
    "\ttest_seq,\n",
    "\tmaxlen=7,\n",
    "\tpadding=\"post\",\n",
    "\ttruncating=\"post\"\n",
    ")\n",
    "\n",
    "print( \"padded test sequences\")\n",
    "print( padded)"
   ]
  }
 ],
 "metadata": {
  "kernelspec": {
   "display_name": "Python 3",
   "language": "python",
   "name": "python3"
  },
  "language_info": {
   "codemirror_mode": {
    "name": "ipython",
    "version": 3
   },
   "file_extension": ".py",
   "mimetype": "text/x-python",
   "name": "python",
   "nbconvert_exporter": "python",
   "pygments_lexer": "ipython3",
   "version": "3.11.7"
  }
 },
 "nbformat": 4,
 "nbformat_minor": 2
}
