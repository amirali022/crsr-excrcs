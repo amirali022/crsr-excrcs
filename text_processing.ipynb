{
 "cells": [
  {
   "cell_type": "code",
   "execution_count": 2,
   "metadata": {},
   "outputs": [],
   "source": [
    "import json\n",
    "from tensorflow.keras.preprocessing.text import Tokenizer\n",
    "from tensorflow.keras.preprocessing.sequence import pad_sequences"
   ]
  },
  {
   "cell_type": "code",
   "execution_count": 3,
   "metadata": {},
   "outputs": [
    {
     "name": "stdout",
     "output_type": "stream",
     "text": [
      "Word Index = {'<OOV>': 1, 'my': 2, 'love': 3, 'dog': 4, 'i': 5, 'you': 6, 'cat': 7, 'do': 8, 'think': 9, 'is': 10, 'amazing': 11}\n",
      "Sequences = [[5, 3, 2, 4], [5, 3, 2, 7], [6, 3, 2, 4], [8, 6, 9, 2, 4, 10, 11]]\n"
     ]
    }
   ],
   "source": [
    "sentences = [\n",
    "\t\"I love my dog\",\n",
    "    \"I love my cat\",\n",
    "    \"You love my dog!\",\n",
    "    \"Do you think my dog is amazing?\"\n",
    "]\n",
    "\n",
    "tokenizer = Tokenizer( num_words=100, oov_token=\"<OOV>\")\n",
    "\n",
    "tokenizer.fit_on_texts( sentences)\n",
    "\n",
    "word_index = tokenizer.word_index\n",
    "\n",
    "sequences = tokenizer.texts_to_sequences( sentences)\n",
    "\n",
    "print( f\"Word Index = { word_index}\")\n",
    "print( f\"Sequences = { sequences}\")"
   ]
  },
  {
   "cell_type": "code",
   "execution_count": 4,
   "metadata": {},
   "outputs": [
    {
     "name": "stdout",
     "output_type": "stream",
     "text": [
      "padded sequences:\n",
      "[[5 3 2 4 0]\n",
      " [5 3 2 7 0]\n",
      " [6 3 2 4 0]\n",
      " [8 6 9 2 4]]\n"
     ]
    }
   ],
   "source": [
    "padded = pad_sequences(\n",
    "\tsequences,\n",
    "\tmaxlen=5,\n",
    "\tpadding=\"post\",\n",
    "\ttruncating=\"post\"\n",
    ")\n",
    "\n",
    "print( \"padded sequences:\")\n",
    "print( padded)"
   ]
  },
  {
   "cell_type": "code",
   "execution_count": 5,
   "metadata": {},
   "outputs": [
    {
     "name": "stdout",
     "output_type": "stream",
     "text": [
      "Test Sequences = [[5, 1, 3, 2, 4], [2, 4, 1, 2, 1]]\n",
      "padded test sequences\n",
      "[[5 1 3 2 4 0 0]\n",
      " [2 4 1 2 1 0 0]]\n"
     ]
    }
   ],
   "source": [
    "test_data = [\n",
    "\t\"i really love my dog\",\n",
    "    \"my dog loves my manatee\"\n",
    "]\n",
    "\n",
    "test_seq = tokenizer.texts_to_sequences( test_data)\n",
    "\n",
    "print( f\"Test Sequences = { test_seq}\")\n",
    "\n",
    "padded = pad_sequences(\n",
    "\ttest_seq,\n",
    "\tmaxlen=7,\n",
    "\tpadding=\"post\",\n",
    "\ttruncating=\"post\"\n",
    ")\n",
    "\n",
    "print( \"padded test sequences\")\n",
    "print( padded)"
   ]
  },
  {
   "cell_type": "code",
   "execution_count": 6,
   "metadata": {},
   "outputs": [
    {
     "name": "stdout",
     "output_type": "stream",
     "text": [
      "{'article_link': 'https://www.huffingtonpost.com/entry/versace-black-code_us_5861fbefe4b0de3a08f600d5', 'headline': \"former versace store clerk sues over secret 'black code' for minority shoppers\", 'is_sarcastic': 0}\n",
      "{'article_link': 'https://www.theonion.com/pediatricians-announce-2011-newborns-are-ugliest-babies-1819572977', 'headline': 'pediatricians announce 2011 newborns are ugliest babies in 30 years', 'is_sarcastic': 1}\n"
     ]
    }
   ],
   "source": [
    "with open( \"./sarcasm.json\", \"r\") as f:\n",
    "\tdatastore = json.load( f)\n",
    "\n",
    "print( datastore[ 0])\n",
    "print( datastore[ 20000])"
   ]
  },
  {
   "cell_type": "code",
   "execution_count": 8,
   "metadata": {},
   "outputs": [],
   "source": [
    "sentences = []\n",
    "labels = []\n",
    "\n",
    "for item in datastore:\n",
    "\tsentences.append( item[ \"headline\"])\n",
    "\tlabels.append( item[ \"is_sarcastic\"])"
   ]
  },
  {
   "cell_type": "code",
   "execution_count": 9,
   "metadata": {},
   "outputs": [
    {
     "name": "stdout",
     "output_type": "stream",
     "text": [
      "number of words in word_index: 29657\n",
      "sample headline: mom starting to fear son's web series closest thing she will have to grandchild\n",
      "padded sequence: [  145   838     2   907  1749  2093   582  4719   221   143    39    46\n",
      "     2 10736     0     0     0     0     0     0     0     0     0     0\n",
      "     0     0     0     0     0     0     0     0     0     0     0     0\n",
      "     0     0     0     0]\n",
      "shape of padded sequences: (26709, 40)\n"
     ]
    }
   ],
   "source": [
    "tokenizer = Tokenizer( oov_token=\"<OOV>\")\n",
    "tokenizer.fit_on_texts( sentences)\n",
    "\n",
    "word_index = tokenizer.word_index\n",
    "print( f\"number of words in word_index: { len( word_index)}\")\n",
    "\n",
    "sequences = tokenizer.texts_to_sequences( sentences)\n",
    "padded = pad_sequences( sequences, padding=\"post\")\n",
    "\n",
    "print( f\"sample headline: { sentences[ 2]}\")\n",
    "print( f\"padded sequence: { padded[ 2]}\")\n",
    "\n",
    "print( f\"shape of padded sequences: { padded.shape}\")"
   ]
  }
 ],
 "metadata": {
  "kernelspec": {
   "display_name": "Python 3",
   "language": "python",
   "name": "python3"
  },
  "language_info": {
   "codemirror_mode": {
    "name": "ipython",
    "version": 3
   },
   "file_extension": ".py",
   "mimetype": "text/x-python",
   "name": "python",
   "nbconvert_exporter": "python",
   "pygments_lexer": "ipython3",
   "version": "3.11.7"
  }
 },
 "nbformat": 4,
 "nbformat_minor": 2
}
